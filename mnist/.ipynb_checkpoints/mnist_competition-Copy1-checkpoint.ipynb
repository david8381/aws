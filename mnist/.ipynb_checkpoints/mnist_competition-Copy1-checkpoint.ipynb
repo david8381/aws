{
 "cells": [
  {
   "cell_type": "code",
   "execution_count": 21,
   "metadata": {
    "collapsed": false
   },
   "outputs": [],
   "source": [
    "import pandas as pd\n",
    "from matplotlib import pyplot as plt\n",
    "import numpy as np\n",
    "from sklearn.model_selection import train_test_split\n",
    "from sklearn.preprocessing import OneHotEncoder\n",
    "%matplotlib inline\n",
    "\n",
    "#train_df = pd.read_csv('./train.csv')\n",
    "\n",
    "mnist = input_data.read_data_sets('MNIST_data/', one_hot=True)\n",
    "trX, trY, teX, teY = mnist.train.images, mnist.train.labels, mnist.test.images, mnist.test.labels\n",
    "trX = trX.reshape(len(trX), 28, 28, 1)\n",
    "teX = teX.reshape(len(teX), 28, 28, 1)\n",
    "\n",
    "\n",
    "def get_images(df):\n",
    "    df = df.copy()\n",
    "    labels = df['label'].values\n",
    "    enc = OneHotEncoder(sparse=False)\n",
    "    enc.fit(np.array(range(10)).reshape(-1,1))\n",
    "    labels = enc.transform(labels.reshape(-1,1))\n",
    "    del df['label']\n",
    "    \n",
    "\n",
    "    images = df.values.reshape(len(df), 28, 28, 1)\n",
    "    return labels, images\n",
    "\n",
    "def view_images(images, labels):\n",
    "    num_cols = int(np.ceil(np.sqrt(len(images))))\n",
    "    fig, axs = plt.subplots(nrows=num_cols,ncols=num_cols)\n",
    "    axs = axs.flatten()\n",
    "\n",
    "    for idx, ax in enumerate(axs):\n",
    "        ax.imshow(images[idx].reshape(28,28))\n",
    "        ax.axes.set_title(np.argmax(labels[idx]))\n",
    "    plt.show()\n",
    "\n"
   ]
  },
  {
   "cell_type": "code",
   "execution_count": 28,
   "metadata": {
    "collapsed": false
   },
   "outputs": [
    {
     "name": "stdout",
     "output_type": "stream",
     "text": [
      "\n"
     ]
    }
   ],
   "source": [
    "import tensorflow as tf\n",
    "tf.reset_default_graph()\n",
    "\n",
    "def conv_layer(X, input_channels, output_channels, name):\n",
    "    with tf.name_scope(name):\n",
    "        W = tf.Variable(tf.random_normal(\n",
    "            [3,3,input_channels,output_channels],stddev=.01), name='W1')\n",
    "        tf.summary.histogram('weights', W)\n",
    "        l1 = tf.nn.conv2d(X, filter=W, strides=[1,1,1,1], padding='SAME')\n",
    "        l1 = tf.nn.relu(l1)\n",
    "        \n",
    "        return l1\n",
    "\n",
    "def fc_layer(X, input_channels, output_channels, name):\n",
    "    with tf.name_scope(name):\n",
    "        W = tf.Variable(tf.random_normal([input_channels, output_channels]), name='W2')\n",
    "        l1 = tf.matmul(X, W)\n",
    "        return l1\n",
    "    \n",
    "def train_model():\n",
    "    labels, images = get_images(train_df)\n",
    "    trX, teX, trY, teY = train_test_split(images, labels, test_size=.2, random_state=42)\n",
    "    \n",
    "    X = tf.placeholder('float', [None, 28, 28, 1], name='x')     #28x28x1\n",
    "    Y = tf.placeholder('float', [None, 10], name='y')\n",
    "    \n",
    "    h = conv_layer(X, 1, 32, 'convlayer1')                           \n",
    "    h = tf.reshape(h, [-1, 28*28*32])\n",
    "    Yp = fc_layer(h, 28*28*32, 10, 'fc1')\n",
    "    \n",
    "    with tf.name_scope('xent'):\n",
    "        cost = tf.reduce_mean(tf.nn.softmax_cross_entropy_with_logits(logits=Yp, labels=Y))\n",
    "    \n",
    "    with tf.name_scope('train'):\n",
    "        train_op = tf.train.GradientDescentOptimizer(.01).minimize(cost)\n",
    "    \n",
    "    with tf.Session() as sess:\n",
    "        init = tf.global_variables_initializer()\n",
    "        sess.run(init)\n",
    "        merged = tf.summary.merge_all()\n",
    "        fw = tf.summary.FileWriter('./hope/1', sess.graph, flush_secs=5)\n",
    "        for i in range(50):\n",
    "            for start, end in zip(range(0,len(trX), 100), range(100, len(trX)+1, 100)):\n",
    "            \n",
    "                sess.run(train_op, feed_dict={X:trX[start:end], Y:trY[start:end]})\n",
    "                \n",
    "            summary = sess.run(merged, feed_dict={X:teX, Y:teY})\n",
    "            fw.add_summary(summary, i)\n",
    "            print sess.run(cost, feed_dict={X:teX, Y:teY})\n",
    "            print 'Weights',  sess.run(tf.reduce_sum(tf.get_variable('W1', )))\n",
    "            \n",
    "    "
   ]
  },
  {
   "cell_type": "raw",
   "metadata": {},
   "source": [
    "train_model()"
   ]
  },
  {
   "cell_type": "code",
   "execution_count": null,
   "metadata": {
    "collapsed": true
   },
   "outputs": [],
   "source": []
  }
 ],
 "metadata": {
  "kernelspec": {
   "display_name": "Python 2",
   "language": "python",
   "name": "python2"
  },
  "language_info": {
   "codemirror_mode": {
    "name": "ipython",
    "version": 2
   },
   "file_extension": ".py",
   "mimetype": "text/x-python",
   "name": "python",
   "nbconvert_exporter": "python",
   "pygments_lexer": "ipython2",
   "version": "2.7.13"
  }
 },
 "nbformat": 4,
 "nbformat_minor": 2
}
