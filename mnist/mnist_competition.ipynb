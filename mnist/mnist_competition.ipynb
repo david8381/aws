{
 "cells": [
  {
   "cell_type": "code",
   "execution_count": 1,
   "metadata": {
    "collapsed": true
   },
   "outputs": [],
   "source": [
    "import pandas as pd\n",
    "import os\n",
    "from matplotlib import pyplot as plt\n",
    "import numpy as np\n",
    "from sklearn.model_selection import train_test_split\n",
    "from sklearn.preprocessing import OneHotEncoder\n",
    "%matplotlib inline\n",
    "import tensorflow as tf\n",
    "train_df = pd.read_csv('./train.csv')\n",
    "\n",
    "def get_images(df):\n",
    "    df = df.copy()\n",
    "    labels = df['label'].values\n",
    "    enc = OneHotEncoder(sparse=False)\n",
    "    enc.fit(np.array(range(10)).reshape(-1,1))\n",
    "    labels = enc.transform(labels.reshape(-1,1))\n",
    "    \n",
    "    del df['label']\n",
    "    \n",
    "    images = df.values.reshape(len(df), 28, 28, 1)\n",
    "    return labels, images\n",
    "\n",
    "def view_images(images, labels):\n",
    "    num_cols = int(np.ceil(np.sqrt(len(images))))\n",
    "    fig, axs = plt.subplots(nrows=num_cols,ncols=num_cols)\n",
    "    axs = axs.flatten()\n",
    "\n",
    "    for idx, ax in enumerate(axs):\n",
    "        ax.imshow(images[idx].reshape(28,28))\n",
    "        ax.axes.set_title(np.argmax(labels[idx]))\n",
    "    plt.show()\n",
    "\n",
    "section_1 = np.cos(np.linspace(0,np.pi/2,50))/50.0\n",
    "section_2 = np.cos(np.linspace(0,np.pi/2,100))/50.0\n",
    "section_3 = np.cos(np.linspace(0,np.pi/2,200))/50.0\n",
    "section_4 = np.cos(np.linspace(0,np.pi/2,400))/50.0\n",
    "\n",
    "learning_rates = np.concatenate([section_1, section_2, section_3, section_4])\n",
    "\n"
   ]
  },
  {
   "cell_type": "code",
   "execution_count": 11,
   "metadata": {
    "collapsed": true
   },
   "outputs": [],
   "source": [
    "import tensorflow as tf\n",
    "tf.reset_default_graph()\n",
    "\n",
    "def conv_layer(X, input_channels, output_channels, name, dropout):\n",
    "    with tf.name_scope(name):\n",
    "        W = tf.Variable(tf.random_normal(\n",
    "            [3,3,input_channels,output_channels],stddev=.01), name='W1')\n",
    "        b = tf.Variable(tf.random_normal([output_channels], stddev=.01), name='bias')\n",
    "        \n",
    "        tf.summary.histogram('weights', W)\n",
    "                        \n",
    "        l1 = tf.nn.conv2d(X, filter=W, strides=[1,1,1,1], padding='SAME')\n",
    "        l1 = tf.nn.relu(l1)\n",
    "        l1 = tf.nn.max_pool(l1, ksize=[1,2,2,1], strides=[1,2,2,1], padding='SAME')\n",
    "        l1 = tf.nn.dropout(l1, keep_prob=1.0-dropout)\n",
    "        \n",
    "        return l1\n",
    "\n",
    "def fc_layer(X, input_channels, output_channels, name, dropout):\n",
    "    with tf.name_scope(name):\n",
    "        W = tf.Variable(tf.random_normal([input_channels, output_channels]), name='W2')\n",
    "        l1 = tf.matmul(X, W)\n",
    "        l1 = tf.nn.dropout(l1, keep_prob=1.0-dropout)\n",
    "        return l1\n",
    "    \n",
    "    \n",
    "def train_model():\n",
    "    labels, images = get_images(train_df)\n",
    "    images = (images-np.mean(images))/np.std(images)\n",
    "    trX, teX, trY, teY = train_test_split(images, labels, test_size=.2, random_state=42)\n",
    "    #img_mn = tf.constant(np.mean(trX), 'float32')\n",
    "    #img_std = tf.constant(np.std(trX), 'float32')\n",
    "    \n",
    "    X = tf.placeholder('float32', [None, 28, 28, 1], name='x')     #28x28x1\n",
    "    Y = tf.placeholder('float32', [None, 10], name='y')\n",
    "    \n",
    "    LR = tf.placeholder('float32')\n",
    "    dropout = tf.placeholder(\"float32\")\n",
    "    \n",
    "    \n",
    "    #X = tf.divide(tf.subtract(X,img_mn), img_std)\n",
    "    h = conv_layer(X, 1, 32, 'convlayer1', dropout)       #14x14x32\n",
    "    h = conv_layer(h, 32, 64, 'convlayer2', dropout)      #7x7x64\n",
    "    h = tf.reshape(h, [-1, 7*7*64])\n",
    "    Yp = fc_layer(h, 7*7*64, 10, 'fc1', dropout)\n",
    "    \n",
    "    with tf.name_scope('xent'):\n",
    "        cost = tf.reduce_mean(tf.nn.softmax_cross_entropy_with_logits(logits=Yp, labels=Y))\n",
    "        tf.summary.scalar('xent', cost)\n",
    "    \n",
    "    with tf.name_scope('train'):\n",
    "        tf.summary.scalar('lr', LR)\n",
    "        train_op = tf.train.GradientDescentOptimizer(LR).minimize(cost)\n",
    "    \n",
    "    with tf.name_scope(\"accuracy\"):\n",
    "        acc = tf.reduce_mean(tf.cast(tf.equal(tf.arg_max(Yp,1),tf.arg_max(Y,1)),tf.float32))\n",
    "        tf.summary.scalar('accuracy', acc)\n",
    "        \n",
    "    saver = tf.train.Saver()\n",
    "    \n",
    "    with tf.Session() as sess:\n",
    "        init = tf.global_variables_initializer()\n",
    "        sess.run(init)\n",
    "        \n",
    "        merged = tf.summary.merge_all()\n",
    "        \n",
    "        fw_train = tf.summary.FileWriter('./hope/6/train/', sess.graph, flush_secs=5)\n",
    "        fw_valid = tf.summary.FileWriter('./hope/6/valid/', flush_secs=5)\n",
    "        \n",
    "        last_file_present = None\n",
    "        loaded_model = False\n",
    "        for i in range(750):\n",
    "            \n",
    "            file_name = './models/{}_model.ckpt'.format(i)\n",
    "            \n",
    "            if not loaded_model:\n",
    "                if os.path.exists(file_name + '.meta'):\n",
    "                    last_file_present = file_name\n",
    "                    continue\n",
    "                \n",
    "                if last_file_present:\n",
    "                    saver.restore(sess, last_file_present)\n",
    "                    loaded_model = True\n",
    "            \n",
    "            for start, end in zip(range(0,len(trX), 256), range(256, len(trX)+1, 256)):\n",
    "                \n",
    "                sess.run(train_op, feed_dict={X:trX[start:end], Y:trY[start:end], LR:learning_rates[i], dropout:.3})\n",
    "                \n",
    "            if i % 1 == 0:\n",
    "                train_acc = sess.run(acc, feed_dict={X:trX, Y:trY, dropout:0.0})\n",
    "                val_acc = sess.run(acc, feed_dict={X:teX, Y:teY, dropout:0.0})\n",
    "               \n",
    "                print 'step: {}'.format(i)\n",
    "                print 'Train: ', train_acc\n",
    "                print 'Validation: ', val_acc\n",
    "            \n",
    "                summary_train = sess.run(merged, feed_dict={X:trX, Y:trY, LR:learning_rates[i], dropout:0.0})\n",
    "                summary_valid = sess.run(merged, feed_dict={X:teX, Y:teY, LR:learning_rates[i], dropout:0.0})\n",
    "                \n",
    "                if i % 1 == 0:\n",
    "                    save_path = saver.save(sess, file_name)\n",
    "                \n",
    "                fw_train.add_summary(summary_train, i)\n",
    "                fw_valid.add_summary(summary_valid, i)\n",
    "    "
   ]
  },
  {
   "cell_type": "code",
   "execution_count": null,
   "metadata": {
    "collapsed": false
   },
   "outputs": [
    {
     "name": "stdout",
     "output_type": "stream",
     "text": [
      "INFO:tensorflow:Restoring parameters from ./models/11_model.ckpt\n"
     ]
    }
   ],
   "source": [
    "train_model()"
   ]
  },
  {
   "cell_type": "code",
   "execution_count": null,
   "metadata": {
    "collapsed": true
   },
   "outputs": [],
   "source": []
  },
  {
   "cell_type": "code",
   "execution_count": null,
   "metadata": {
    "collapsed": true
   },
   "outputs": [],
   "source": []
  }
 ],
 "metadata": {
  "kernelspec": {
   "display_name": "Python 2",
   "language": "python",
   "name": "python2"
  },
  "language_info": {
   "codemirror_mode": {
    "name": "ipython",
    "version": 2
   },
   "file_extension": ".py",
   "mimetype": "text/x-python",
   "name": "python",
   "nbconvert_exporter": "python",
   "pygments_lexer": "ipython2",
   "version": "2.7.13"
  }
 },
 "nbformat": 4,
 "nbformat_minor": 2
}
